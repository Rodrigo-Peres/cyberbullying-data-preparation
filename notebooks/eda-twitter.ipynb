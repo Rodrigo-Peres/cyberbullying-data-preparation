{
 "cells": [
  {
   "cell_type": "code",
   "execution_count": 45,
   "id": "5b4c5b06-efbc-4ccb-a0e6-3d4d9c60a7ba",
   "metadata": {
    "tags": []
   },
   "outputs": [
    {
     "name": "stdout",
     "output_type": "stream",
     "text": [
      "/app\n"
     ]
    }
   ],
   "source": [
    "cd /app"
   ]
  },
  {
   "cell_type": "code",
   "execution_count": 46,
   "id": "e13de0dc-9617-4f33-b537-8d7a9d7df927",
   "metadata": {
    "tags": []
   },
   "outputs": [],
   "source": [
    "import numpy as np\n",
    "import pandas as pd"
   ]
  },
  {
   "cell_type": "code",
   "execution_count": 47,
   "id": "ba2a3a19-ed3c-449e-a459-9de6b51689a9",
   "metadata": {
    "tags": []
   },
   "outputs": [],
   "source": [
    "df = pd.read_csv(\"./data/raw/twitter/cyberbullying_tweets.csv\")"
   ]
  },
  {
   "cell_type": "code",
   "execution_count": 48,
   "id": "9fc1bd97-0777-4cd0-990c-d3c6512c53ec",
   "metadata": {
    "tags": []
   },
   "outputs": [
    {
     "name": "stdout",
     "output_type": "stream",
     "text": [
      "df.shape=(47692, 2)\n"
     ]
    }
   ],
   "source": [
    "print(f\"{df.shape=}\")"
   ]
  },
  {
   "cell_type": "code",
   "execution_count": 49,
   "id": "11c9ebe7-9033-4dee-8bc4-6a2bb7626f59",
   "metadata": {
    "tags": []
   },
   "outputs": [
    {
     "data": {
      "text/plain": [
       "9538.4"
      ]
     },
     "execution_count": 49,
     "metadata": {},
     "output_type": "execute_result"
    }
   ],
   "source": [
    "(len(df) - (len(df) * 0.2)) * 0.25"
   ]
  },
  {
   "cell_type": "code",
   "execution_count": 50,
   "id": "23a69e56-391c-4ab2-a280-525b3fafaf2e",
   "metadata": {
    "tags": []
   },
   "outputs": [
    {
     "data": {
      "text/html": [
       "<div>\n",
       "<style scoped>\n",
       "    .dataframe tbody tr th:only-of-type {\n",
       "        vertical-align: middle;\n",
       "    }\n",
       "\n",
       "    .dataframe tbody tr th {\n",
       "        vertical-align: top;\n",
       "    }\n",
       "\n",
       "    .dataframe thead th {\n",
       "        text-align: right;\n",
       "    }\n",
       "</style>\n",
       "<table border=\"1\" class=\"dataframe\">\n",
       "  <thead>\n",
       "    <tr style=\"text-align: right;\">\n",
       "      <th></th>\n",
       "      <th>tweet_text</th>\n",
       "      <th>cyberbullying_type</th>\n",
       "    </tr>\n",
       "  </thead>\n",
       "  <tbody>\n",
       "    <tr>\n",
       "      <th>47335</th>\n",
       "      <td>That’s just a slang word that white people cre...</td>\n",
       "      <td>ethnicity</td>\n",
       "    </tr>\n",
       "    <tr>\n",
       "      <th>16911</th>\n",
       "      <td>Like Nancy always says as the good strict Chri...</td>\n",
       "      <td>religion</td>\n",
       "    </tr>\n",
       "    <tr>\n",
       "      <th>22010</th>\n",
       "      <td>Not one President before your buddy @realDonal...</td>\n",
       "      <td>religion</td>\n",
       "    </tr>\n",
       "    <tr>\n",
       "      <th>28295</th>\n",
       "      <td>@petechesbot @tmclaughbos APPARENTLY NOT</td>\n",
       "      <td>other_cyberbullying</td>\n",
       "    </tr>\n",
       "    <tr>\n",
       "      <th>33937</th>\n",
       "      <td>I don't need to talk to you. When I talk about...</td>\n",
       "      <td>age</td>\n",
       "    </tr>\n",
       "    <tr>\n",
       "      <th>28409</th>\n",
       "      <td>@sschinke that would imply he knew a programmi...</td>\n",
       "      <td>other_cyberbullying</td>\n",
       "    </tr>\n",
       "    <tr>\n",
       "      <th>19587</th>\n",
       "      <td>So should we allow Muslims from other countrie...</td>\n",
       "      <td>religion</td>\n",
       "    </tr>\n",
       "    <tr>\n",
       "      <th>8636</th>\n",
       "      <td>gee i just love anime and jokes about a boy wa...</td>\n",
       "      <td>gender</td>\n",
       "    </tr>\n",
       "    <tr>\n",
       "      <th>3652</th>\n",
       "      <td>RT @SavedYouAClick: Entire article attached. R...</td>\n",
       "      <td>not_cyberbullying</td>\n",
       "    </tr>\n",
       "    <tr>\n",
       "      <th>39186</th>\n",
       "      <td>karma is real because all high school bullies ...</td>\n",
       "      <td>age</td>\n",
       "    </tr>\n",
       "    <tr>\n",
       "      <th>37293</th>\n",
       "      <td>Someone is Enjoying my Content! You should, to...</td>\n",
       "      <td>age</td>\n",
       "    </tr>\n",
       "    <tr>\n",
       "      <th>7529</th>\n",
       "      <td>porraa eu sofro bulling da câmera fotográfica ...</td>\n",
       "      <td>not_cyberbullying</td>\n",
       "    </tr>\n",
       "    <tr>\n",
       "      <th>30464</th>\n",
       "      <td>@Cammaloney94 Listen I would not have one of t...</td>\n",
       "      <td>other_cyberbullying</td>\n",
       "    </tr>\n",
       "    <tr>\n",
       "      <th>6860</th>\n",
       "      <td>so sofro bullying pelos meus amigos pqp</td>\n",
       "      <td>not_cyberbullying</td>\n",
       "    </tr>\n",
       "    <tr>\n",
       "      <th>33478</th>\n",
       "      <td>#NakagawaTaishi and #IshiiAnna to be lead in m...</td>\n",
       "      <td>age</td>\n",
       "    </tr>\n",
       "    <tr>\n",
       "      <th>2337</th>\n",
       "      <td>My work ethic this semester is awful, how the ...</td>\n",
       "      <td>not_cyberbullying</td>\n",
       "    </tr>\n",
       "    <tr>\n",
       "      <th>33257</th>\n",
       "      <td>one time i got kind of bullied in high school ...</td>\n",
       "      <td>age</td>\n",
       "    </tr>\n",
       "    <tr>\n",
       "      <th>39880</th>\n",
       "      <td>That's so dumb RT @SmallBoss_: The ladies on t...</td>\n",
       "      <td>ethnicity</td>\n",
       "    </tr>\n",
       "    <tr>\n",
       "      <th>953</th>\n",
       "      <td>Ok, well the score was able to be manipulated ...</td>\n",
       "      <td>not_cyberbullying</td>\n",
       "    </tr>\n",
       "    <tr>\n",
       "      <th>10346</th>\n",
       "      <td>RT @NoahRough I swear I'm not sexist but about...</td>\n",
       "      <td>gender</td>\n",
       "    </tr>\n",
       "    <tr>\n",
       "      <th>9766</th>\n",
       "      <td>Mocking a black person's pain at the thought t...</td>\n",
       "      <td>gender</td>\n",
       "    </tr>\n",
       "    <tr>\n",
       "      <th>1040</th>\n",
       "      <td>OMG 😱 I have a feeling I’m  going to be overwh...</td>\n",
       "      <td>not_cyberbullying</td>\n",
       "    </tr>\n",
       "    <tr>\n",
       "      <th>34275</th>\n",
       "      <td>I know I shouldn’t let my hater bother me. But...</td>\n",
       "      <td>age</td>\n",
       "    </tr>\n",
       "    <tr>\n",
       "      <th>15833</th>\n",
       "      <td>Is class shaming justified while condemning ra...</td>\n",
       "      <td>gender</td>\n",
       "    </tr>\n",
       "    <tr>\n",
       "      <th>20906</th>\n",
       "      <td>You tell about \"universal declaration\" Then ma...</td>\n",
       "      <td>religion</td>\n",
       "    </tr>\n",
       "    <tr>\n",
       "      <th>20576</th>\n",
       "      <td>Some pseudo Kashmiris shown their respect for ...</td>\n",
       "      <td>religion</td>\n",
       "    </tr>\n",
       "    <tr>\n",
       "      <th>32027</th>\n",
       "      <td>there was a girl in my high school who bullied...</td>\n",
       "      <td>age</td>\n",
       "    </tr>\n",
       "    <tr>\n",
       "      <th>25953</th>\n",
       "      <td>â±âââââââââââ²</td>\n",
       "      <td>other_cyberbullying</td>\n",
       "    </tr>\n",
       "    <tr>\n",
       "      <th>26444</th>\n",
       "      <td>RT @TPThompson2: Who will be the 1st #gop rep ...</td>\n",
       "      <td>other_cyberbullying</td>\n",
       "    </tr>\n",
       "    <tr>\n",
       "      <th>45981</th>\n",
       "      <td>“@NadiaDawg: “@tayyoung_: FUCK OBAMA, dumb ass...</td>\n",
       "      <td>ethnicity</td>\n",
       "    </tr>\n",
       "    <tr>\n",
       "      <th>4076</th>\n",
       "      <td>BAM! Manu just put Kat in her place! #mkr</td>\n",
       "      <td>not_cyberbullying</td>\n",
       "    </tr>\n",
       "    <tr>\n",
       "      <th>22261</th>\n",
       "      <td>I know as a Christian woman trying her hardest...</td>\n",
       "      <td>religion</td>\n",
       "    </tr>\n",
       "    <tr>\n",
       "      <th>35692</th>\n",
       "      <td>Im sorry you had to experience this Unathi. Th...</td>\n",
       "      <td>age</td>\n",
       "    </tr>\n",
       "    <tr>\n",
       "      <th>45731</th>\n",
       "      <td>DEANGELO WHY ARE YOU SUCH A SORRY SACK OF DUMB...</td>\n",
       "      <td>ethnicity</td>\n",
       "    </tr>\n",
       "    <tr>\n",
       "      <th>15726</th>\n",
       "      <td>seriously colin stop smiling/smirking. frownin...</td>\n",
       "      <td>gender</td>\n",
       "    </tr>\n",
       "    <tr>\n",
       "      <th>27039</th>\n",
       "      <td>RT @bigshitxtalker: I'm calling the fucking PO...</td>\n",
       "      <td>other_cyberbullying</td>\n",
       "    </tr>\n",
       "    <tr>\n",
       "      <th>21937</th>\n",
       "      <td>Acab is just like the idiots that say all musl...</td>\n",
       "      <td>religion</td>\n",
       "    </tr>\n",
       "    <tr>\n",
       "      <th>7762</th>\n",
       "      <td>@FreeMook_P4BD&amp;gt;&amp;gt;what up kidd</td>\n",
       "      <td>not_cyberbullying</td>\n",
       "    </tr>\n",
       "    <tr>\n",
       "      <th>37044</th>\n",
       "      <td>pls can the girls who bullied me in high schoo...</td>\n",
       "      <td>age</td>\n",
       "    </tr>\n",
       "    <tr>\n",
       "      <th>40662</th>\n",
       "      <td>J* could be like “I literally hate you niggers...</td>\n",
       "      <td>ethnicity</td>\n",
       "    </tr>\n",
       "    <tr>\n",
       "      <th>8501</th>\n",
       "      <td>i can confirm that i make gay jokes and rape j...</td>\n",
       "      <td>gender</td>\n",
       "    </tr>\n",
       "    <tr>\n",
       "      <th>33943</th>\n",
       "      <td>I'm topper saare teachers ki good books me thi...</td>\n",
       "      <td>age</td>\n",
       "    </tr>\n",
       "    <tr>\n",
       "      <th>2275</th>\n",
       "      <td>@LifeInKhilafah Loss of Kobane, Sinjar, corpse...</td>\n",
       "      <td>not_cyberbullying</td>\n",
       "    </tr>\n",
       "    <tr>\n",
       "      <th>14053</th>\n",
       "      <td>RT @SxFlint93: @YesYoureSexist well I don't fo...</td>\n",
       "      <td>gender</td>\n",
       "    </tr>\n",
       "    <tr>\n",
       "      <th>38918</th>\n",
       "      <td>Girls that start tweets with this bullied me i...</td>\n",
       "      <td>age</td>\n",
       "    </tr>\n",
       "    <tr>\n",
       "      <th>26528</th>\n",
       "      <td>About to meet this puppy. Shepherd mix. A bit ...</td>\n",
       "      <td>other_cyberbullying</td>\n",
       "    </tr>\n",
       "    <tr>\n",
       "      <th>24550</th>\n",
       "      <td>I wanna have a FemiNazi night 😬</td>\n",
       "      <td>other_cyberbullying</td>\n",
       "    </tr>\n",
       "    <tr>\n",
       "      <th>26204</th>\n",
       "      <td>RT @mechapoetic: and when you have marginalize...</td>\n",
       "      <td>other_cyberbullying</td>\n",
       "    </tr>\n",
       "    <tr>\n",
       "      <th>46453</th>\n",
       "      <td>Quit living off your grandparents shit and gro...</td>\n",
       "      <td>ethnicity</td>\n",
       "    </tr>\n",
       "    <tr>\n",
       "      <th>26185</th>\n",
       "      <td>RT @RenoLace: Holy fuck the Hardy Boys!!!! #Wr...</td>\n",
       "      <td>other_cyberbullying</td>\n",
       "    </tr>\n",
       "  </tbody>\n",
       "</table>\n",
       "</div>"
      ],
      "text/plain": [
       "                                              tweet_text   cyberbullying_type\n",
       "47335  That’s just a slang word that white people cre...            ethnicity\n",
       "16911  Like Nancy always says as the good strict Chri...             religion\n",
       "22010  Not one President before your buddy @realDonal...             religion\n",
       "28295           @petechesbot @tmclaughbos APPARENTLY NOT  other_cyberbullying\n",
       "33937  I don't need to talk to you. When I talk about...                  age\n",
       "28409  @sschinke that would imply he knew a programmi...  other_cyberbullying\n",
       "19587  So should we allow Muslims from other countrie...             religion\n",
       "8636   gee i just love anime and jokes about a boy wa...               gender\n",
       "3652   RT @SavedYouAClick: Entire article attached. R...    not_cyberbullying\n",
       "39186  karma is real because all high school bullies ...                  age\n",
       "37293  Someone is Enjoying my Content! You should, to...                  age\n",
       "7529   porraa eu sofro bulling da câmera fotográfica ...    not_cyberbullying\n",
       "30464  @Cammaloney94 Listen I would not have one of t...  other_cyberbullying\n",
       "6860             so sofro bullying pelos meus amigos pqp    not_cyberbullying\n",
       "33478  #NakagawaTaishi and #IshiiAnna to be lead in m...                  age\n",
       "2337   My work ethic this semester is awful, how the ...    not_cyberbullying\n",
       "33257  one time i got kind of bullied in high school ...                  age\n",
       "39880  That's so dumb RT @SmallBoss_: The ladies on t...            ethnicity\n",
       "953    Ok, well the score was able to be manipulated ...    not_cyberbullying\n",
       "10346  RT @NoahRough I swear I'm not sexist but about...               gender\n",
       "9766   Mocking a black person's pain at the thought t...               gender\n",
       "1040   OMG 😱 I have a feeling I’m  going to be overwh...    not_cyberbullying\n",
       "34275  I know I shouldn’t let my hater bother me. But...                  age\n",
       "15833  Is class shaming justified while condemning ra...               gender\n",
       "20906  You tell about \"universal declaration\" Then ma...             religion\n",
       "20576  Some pseudo Kashmiris shown their respect for ...             religion\n",
       "32027  there was a girl in my high school who bullied...                  age\n",
       "25953               â±âââââââââââ²  other_cyberbullying\n",
       "26444  RT @TPThompson2: Who will be the 1st #gop rep ...  other_cyberbullying\n",
       "45981  “@NadiaDawg: “@tayyoung_: FUCK OBAMA, dumb ass...            ethnicity\n",
       "4076           BAM! Manu just put Kat in her place! #mkr    not_cyberbullying\n",
       "22261  I know as a Christian woman trying her hardest...             religion\n",
       "35692  Im sorry you had to experience this Unathi. Th...                  age\n",
       "45731  DEANGELO WHY ARE YOU SUCH A SORRY SACK OF DUMB...            ethnicity\n",
       "15726  seriously colin stop smiling/smirking. frownin...               gender\n",
       "27039  RT @bigshitxtalker: I'm calling the fucking PO...  other_cyberbullying\n",
       "21937  Acab is just like the idiots that say all musl...             religion\n",
       "7762                  @FreeMook_P4BD&gt;&gt;what up kidd    not_cyberbullying\n",
       "37044  pls can the girls who bullied me in high schoo...                  age\n",
       "40662  J* could be like “I literally hate you niggers...            ethnicity\n",
       "8501   i can confirm that i make gay jokes and rape j...               gender\n",
       "33943  I'm topper saare teachers ki good books me thi...                  age\n",
       "2275   @LifeInKhilafah Loss of Kobane, Sinjar, corpse...    not_cyberbullying\n",
       "14053  RT @SxFlint93: @YesYoureSexist well I don't fo...               gender\n",
       "38918  Girls that start tweets with this bullied me i...                  age\n",
       "26528  About to meet this puppy. Shepherd mix. A bit ...  other_cyberbullying\n",
       "24550                    I wanna have a FemiNazi night 😬  other_cyberbullying\n",
       "26204  RT @mechapoetic: and when you have marginalize...  other_cyberbullying\n",
       "46453  Quit living off your grandparents shit and gro...            ethnicity\n",
       "26185  RT @RenoLace: Holy fuck the Hardy Boys!!!! #Wr...  other_cyberbullying"
      ]
     },
     "execution_count": 50,
     "metadata": {},
     "output_type": "execute_result"
    }
   ],
   "source": [
    "df.sample(n=50)"
   ]
  },
  {
   "cell_type": "code",
   "execution_count": 51,
   "id": "1fa27b61-a497-47fc-8451-1af71c999cb3",
   "metadata": {
    "tags": []
   },
   "outputs": [
    {
     "data": {
      "text/plain": [
       "array(['not_cyberbullying', 'gender', 'religion', 'other_cyberbullying',\n",
       "       'age', 'ethnicity'], dtype=object)"
      ]
     },
     "execution_count": 51,
     "metadata": {},
     "output_type": "execute_result"
    }
   ],
   "source": [
    "df[\"cyberbullying_type\"].unique()"
   ]
  },
  {
   "cell_type": "code",
   "execution_count": 52,
   "id": "03a14585-24e6-44e6-a449-341fbb872271",
   "metadata": {
    "tags": []
   },
   "outputs": [
    {
     "data": {
      "text/plain": [
       "(7945, 2)"
      ]
     },
     "execution_count": 52,
     "metadata": {},
     "output_type": "execute_result"
    }
   ],
   "source": [
    "df[df[\"cyberbullying_type\"] == 'not_cyberbullying'].shape"
   ]
  },
  {
   "cell_type": "code",
   "execution_count": 53,
   "id": "062dfb56-d013-4694-baba-61e9638e11f0",
   "metadata": {
    "tags": []
   },
   "outputs": [],
   "source": [
    "df.loc[df['cyberbullying_type'] != \"not_cyberbullying\", \"label\"] = 1"
   ]
  },
  {
   "cell_type": "code",
   "execution_count": 54,
   "id": "8b43b3c9-3812-4696-a4e7-8632b12f5e57",
   "metadata": {
    "tags": []
   },
   "outputs": [],
   "source": [
    "df[\"label\"] = df[\"label\"].fillna(0)"
   ]
  },
  {
   "cell_type": "code",
   "execution_count": 55,
   "id": "96ce4ece-a235-4996-9a3e-3676befada2b",
   "metadata": {
    "tags": []
   },
   "outputs": [
    {
     "data": {
      "text/plain": [
       "label\n",
       "1.0    39747\n",
       "0.0     7945\n",
       "Name: count, dtype: int64"
      ]
     },
     "execution_count": 55,
     "metadata": {},
     "output_type": "execute_result"
    }
   ],
   "source": [
    "df.label.value_counts()"
   ]
  },
  {
   "cell_type": "code",
   "execution_count": 43,
   "id": "8993df58-3da7-44d7-ac93-fce25713ec65",
   "metadata": {
    "tags": []
   },
   "outputs": [],
   "source": [
    "df[\"label\"] = np.where(df['cyberbullying_type'] != \"not_cyberbullying\", 1, 0)"
   ]
  },
  {
   "cell_type": "code",
   "execution_count": 44,
   "id": "e57ac679-0688-4d11-a9d2-77bf461188b5",
   "metadata": {
    "tags": []
   },
   "outputs": [
    {
     "data": {
      "text/plain": [
       "label\n",
       "1    39747\n",
       "0     7945\n",
       "Name: count, dtype: int64"
      ]
     },
     "execution_count": 44,
     "metadata": {},
     "output_type": "execute_result"
    }
   ],
   "source": [
    "df.label.value_counts()"
   ]
  }
 ],
 "metadata": {
  "kernelspec": {
   "display_name": "Python 3 (ipykernel)",
   "language": "python",
   "name": "python3"
  },
  "language_info": {
   "codemirror_mode": {
    "name": "ipython",
    "version": 3
   },
   "file_extension": ".py",
   "mimetype": "text/x-python",
   "name": "python",
   "nbconvert_exporter": "python",
   "pygments_lexer": "ipython3",
   "version": "3.10.14"
  }
 },
 "nbformat": 4,
 "nbformat_minor": 5
}
